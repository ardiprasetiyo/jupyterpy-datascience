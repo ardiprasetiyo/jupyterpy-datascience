{
 "cells": [
  {
   "cell_type": "markdown",
   "metadata": {},
   "source": [
    "<h2>Quiz 1 : Helper Function</h2>\n",
    "\n",
    "Jawab Pertanyaan di bawah ini :\n",
    "\n",
    "Misalkan kamu ingin mengetahui tentang kegunaan fungsi 'len' di Python, maka fungsi apa yang bisa kamu gunakan untuk menolong kamu?"
   ]
  },
  {
   "cell_type": "code",
   "execution_count": 29,
   "metadata": {},
   "outputs": [
    {
     "name": "stdout",
     "output_type": "stream",
     "text": [
      "Help on built-in function len in module builtins:\n",
      "\n",
      "len(obj, /)\n",
      "    Return the number of items in a container.\n",
      "\n"
     ]
    }
   ],
   "source": [
    "# lengkapi code ini\n",
    "help(len)"
   ]
  },
  {
   "cell_type": "markdown",
   "metadata": {},
   "source": [
    "<h2>Quiz 2 : Built-in Function</h2>\n",
    "\n",
    "Jawab Pertanyaan di bawah ini :\n",
    "    \n",
    "Apa itu built-in Function?\n",
    "\n",
    "Sebutkan 3 built-in Function di pyhon!\n",
    "\n",
    "Berikan contoh masing2 1 cara penggunaan built-in function yang kamu sebutkan sebelumnya"
   ]
  },
  {
   "cell_type": "markdown",
   "metadata": {},
   "source": [
    "Built-in Function adalah sekumpulan fungsi yang sudah disediakan oleh bahasa Python itu sendiri"
   ]
  },
  {
   "cell_type": "code",
   "execution_count": 28,
   "metadata": {},
   "outputs": [
    {
     "data": {
      "text/plain": [
       "3"
      ]
     },
     "execution_count": 28,
     "metadata": {},
     "output_type": "execute_result"
    }
   ],
   "source": [
    "# Contoh penggunaan built in function\n",
    "len([2,4,5])"
   ]
  },
  {
   "cell_type": "markdown",
   "metadata": {},
   "source": [
    "<h2>Quiz 3 : Method dan Function</h2>\n",
    "\n",
    "Jawab Pertanyaan di bawah ini :\n",
    "    \n",
    "- Apa perbedaan method dan function?"
   ]
  },
  {
   "cell_type": "markdown",
   "metadata": {},
   "source": [
    "Fungsi adalah sebuah <b>blok program</b> yang bisa kita panggil dengan mengetik nama fungsi tersebut. Sementara Method adalah sebuah fungsi yang berkaitan atau terdapat pada sebuah <b>object<b> "
   ]
  },
  {
   "cell_type": "markdown",
   "metadata": {},
   "source": [
    "<h2>Quiz 4 : Menggunkan Method String</h2>\n",
    "\n",
    "Lengkapi kode untuk menghasilkan suatu output yang di harapkan"
   ]
  },
  {
   "cell_type": "code",
   "execution_count": 27,
   "metadata": {},
   "outputs": [
    {
     "name": "stdout",
     "output_type": "stream",
     "text": [
      "CORONA CEPAT SELESAI\n",
      "3\n"
     ]
    }
   ],
   "source": [
    "kalimat = \"Corona cepat selesai\"\n",
    "\n",
    "# gunakan method untuk mengubah nilai kalimat menjadi uppercase semua kemudian tampilkan hasilnya\n",
    "print(kalimat.upper())\n",
    "\n",
    "# gunakan method untuk menghitung berapa huruf e di dalam kalimat\n",
    "print(kalimat.count('e'))"
   ]
  },
  {
   "cell_type": "markdown",
   "metadata": {},
   "source": [
    "Expected Output :\n",
    "\n",
    "CORONA CEPAT SELESAI\n",
    "\n",
    "3"
   ]
  },
  {
   "cell_type": "markdown",
   "metadata": {},
   "source": [
    "<h2>Quiz 5 : Menggunkan Method List</h2>\n",
    "\n",
    "Lengkapi kode untuk menghasilkan suatu output yang di harapkan"
   ]
  },
  {
   "cell_type": "code",
   "execution_count": 26,
   "metadata": {},
   "outputs": [
    {
     "name": "stdout",
     "output_type": "stream",
     "text": [
      "2\n",
      "[11.25, 18.0, 20.0, 10.75, 9.5, 15.5]\n"
     ]
    }
   ],
   "source": [
    "areas = [11.25, 18.0, 20.0, 10.75, 9.50]\n",
    "\n",
    "# gunakan suatu method dari object list untuk menampilkan index dari nilai 20\n",
    "print(areas.index(20.0))\n",
    "\n",
    "# gunakan suatu method dari object list untuk menambahkan nilai 15.5 kedalam list ke index terakhirnya\n",
    "areas.append(15.5)\n",
    "print(areas)"
   ]
  },
  {
   "cell_type": "markdown",
   "metadata": {},
   "source": [
    "Expected Output :\n",
    "\n",
    "2\n",
    "\n",
    "[11.25, 18.0, 20.0, 10.75, 9.50, 15.5]"
   ]
  },
  {
   "cell_type": "markdown",
   "metadata": {},
   "source": [
    "<h2>Quiz 6 : Membuat Simple Function</h2>\n",
    "\n",
    "Buatlah suatu fungsi yang menerima satu input argumen berbentuk list dan mempunyai elemen bertipe numeric semua, dimana fungsi tersebut berguna untuk menghitung rata2 dari kumpulan elemen list tersebut. namai fungsi tersebut 'mean_list'"
   ]
  },
  {
   "cell_type": "code",
   "execution_count": 25,
   "metadata": {},
   "outputs": [
    {
     "name": "stdout",
     "output_type": "stream",
     "text": [
      "13.9\n"
     ]
    }
   ],
   "source": [
    "obj_list = [11.25, 18.0, 20.0, 10.75, 9.50]\n",
    "def mean_list(inp_list):\n",
    "    return sum(inp_list)/len(inp_list)\n",
    "    \n",
    "print(mean_list(obj_list))"
   ]
  },
  {
   "cell_type": "markdown",
   "metadata": {},
   "source": [
    "Expected Output :\n",
    "\n",
    "13.9"
   ]
  },
  {
   "cell_type": "markdown",
   "metadata": {},
   "source": [
    "<h2>Quiz 7 : Membuat Function dengan Multiple arguments</h2>\n",
    "\n",
    "Buatlah suatu fungsi untuk melakukan penggabungan antara dua list"
   ]
  },
  {
   "cell_type": "code",
   "execution_count": 24,
   "metadata": {},
   "outputs": [
    {
     "name": "stdout",
     "output_type": "stream",
     "text": [
      "[2, 4, 5, 6, 1, 2, 3]\n"
     ]
    }
   ],
   "source": [
    "obj_list = [2, 4, 5, 6]\n",
    "obj_pengali = [1, 2, 3]\n",
    "def kali_list(obj_list, obj_pengali):\n",
    "    return obj_list + obj_pengali\n",
    "    \n",
    "    \n",
    "print(kali_list(obj_list, obj_pengali))"
   ]
  },
  {
   "cell_type": "markdown",
   "metadata": {},
   "source": [
    "Expected Output :\n",
    "\n",
    "[2, 4, 5, 6, 1, 2, 3]"
   ]
  },
  {
   "cell_type": "code",
   "execution_count": null,
   "metadata": {},
   "outputs": [],
   "source": []
  }
 ],
 "metadata": {
  "kernelspec": {
   "display_name": "Python 3",
   "language": "python",
   "name": "python3"
  },
  "language_info": {
   "codemirror_mode": {
    "name": "ipython",
    "version": 3
   },
   "file_extension": ".py",
   "mimetype": "text/x-python",
   "name": "python",
   "nbconvert_exporter": "python",
   "pygments_lexer": "ipython3",
   "version": "3.7.6"
  }
 },
 "nbformat": 4,
 "nbformat_minor": 4
}
